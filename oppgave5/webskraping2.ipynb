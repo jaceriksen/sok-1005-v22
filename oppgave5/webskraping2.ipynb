{
 "cells": [
  {
   "cell_type": "code",
   "execution_count": 1,
   "id": "2d50263c-6bd0-4d74-98d4-ee396378fdeb",
   "metadata": {},
   "outputs": [],
   "source": [
    "import pandas as pd\n",
    "url = 'https://worldpopulationreview.com/country-rankings/hdi-by-country'"
   ]
  },
  {
   "cell_type": "code",
   "execution_count": 2,
   "id": "ba3d1084-9860-4302-a13e-a677455aea4d",
   "metadata": {},
   "outputs": [
    {
     "data": {
      "text/plain": [
       "[                      Country  Human Development Index  2022 Population\n",
       " 0                      Norway                    0.954          5511370\n",
       " 1                 Switzerland                    0.946          8773637\n",
       " 2                     Ireland                    0.942          5020199\n",
       " 3                   Hong Kong                    0.939          7604299\n",
       " 4                     Germany                    0.939         83883596\n",
       " ..                        ...                      ...              ...\n",
       " 181                   Burundi                    0.423         12624840\n",
       " 182               South Sudan                    0.413         11618511\n",
       " 183                      Chad                    0.401         17413580\n",
       " 184  Central African Republic                    0.381          5016678\n",
       " 185                     Niger                    0.377         26083660\n",
       " \n",
       " [186 rows x 3 columns]]"
      ]
     },
     "execution_count": 2,
     "metadata": {},
     "output_type": "execute_result"
    }
   ],
   "source": [
    "df = pd.read_html(url, header = 0)\n",
    "df"
   ]
  },
  {
   "cell_type": "code",
   "execution_count": 3,
   "id": "5e6507c2-fb40-432a-88d5-ea928e84d066",
   "metadata": {},
   "outputs": [
    {
     "data": {
      "text/html": [
       "<div>\n",
       "<style scoped>\n",
       "    .dataframe tbody tr th:only-of-type {\n",
       "        vertical-align: middle;\n",
       "    }\n",
       "\n",
       "    .dataframe tbody tr th {\n",
       "        vertical-align: top;\n",
       "    }\n",
       "\n",
       "    .dataframe thead th {\n",
       "        text-align: right;\n",
       "    }\n",
       "</style>\n",
       "<table border=\"1\" class=\"dataframe\">\n",
       "  <thead>\n",
       "    <tr style=\"text-align: right;\">\n",
       "      <th></th>\n",
       "      <th>Country</th>\n",
       "      <th>Human Development Index</th>\n",
       "      <th>2022 Population</th>\n",
       "    </tr>\n",
       "  </thead>\n",
       "  <tbody>\n",
       "    <tr>\n",
       "      <th>0</th>\n",
       "      <td>Norway</td>\n",
       "      <td>0.954</td>\n",
       "      <td>5511370</td>\n",
       "    </tr>\n",
       "    <tr>\n",
       "      <th>1</th>\n",
       "      <td>Switzerland</td>\n",
       "      <td>0.946</td>\n",
       "      <td>8773637</td>\n",
       "    </tr>\n",
       "    <tr>\n",
       "      <th>2</th>\n",
       "      <td>Ireland</td>\n",
       "      <td>0.942</td>\n",
       "      <td>5020199</td>\n",
       "    </tr>\n",
       "    <tr>\n",
       "      <th>3</th>\n",
       "      <td>Hong Kong</td>\n",
       "      <td>0.939</td>\n",
       "      <td>7604299</td>\n",
       "    </tr>\n",
       "    <tr>\n",
       "      <th>4</th>\n",
       "      <td>Germany</td>\n",
       "      <td>0.939</td>\n",
       "      <td>83883596</td>\n",
       "    </tr>\n",
       "    <tr>\n",
       "      <th>...</th>\n",
       "      <td>...</td>\n",
       "      <td>...</td>\n",
       "      <td>...</td>\n",
       "    </tr>\n",
       "    <tr>\n",
       "      <th>181</th>\n",
       "      <td>Burundi</td>\n",
       "      <td>0.423</td>\n",
       "      <td>12624840</td>\n",
       "    </tr>\n",
       "    <tr>\n",
       "      <th>182</th>\n",
       "      <td>South Sudan</td>\n",
       "      <td>0.413</td>\n",
       "      <td>11618511</td>\n",
       "    </tr>\n",
       "    <tr>\n",
       "      <th>183</th>\n",
       "      <td>Chad</td>\n",
       "      <td>0.401</td>\n",
       "      <td>17413580</td>\n",
       "    </tr>\n",
       "    <tr>\n",
       "      <th>184</th>\n",
       "      <td>Central African Republic</td>\n",
       "      <td>0.381</td>\n",
       "      <td>5016678</td>\n",
       "    </tr>\n",
       "    <tr>\n",
       "      <th>185</th>\n",
       "      <td>Niger</td>\n",
       "      <td>0.377</td>\n",
       "      <td>26083660</td>\n",
       "    </tr>\n",
       "  </tbody>\n",
       "</table>\n",
       "<p>186 rows × 3 columns</p>\n",
       "</div>"
      ],
      "text/plain": [
       "                      Country  Human Development Index  2022 Population\n",
       "0                      Norway                    0.954          5511370\n",
       "1                 Switzerland                    0.946          8773637\n",
       "2                     Ireland                    0.942          5020199\n",
       "3                   Hong Kong                    0.939          7604299\n",
       "4                     Germany                    0.939         83883596\n",
       "..                        ...                      ...              ...\n",
       "181                   Burundi                    0.423         12624840\n",
       "182               South Sudan                    0.413         11618511\n",
       "183                      Chad                    0.401         17413580\n",
       "184  Central African Republic                    0.381          5016678\n",
       "185                     Niger                    0.377         26083660\n",
       "\n",
       "[186 rows x 3 columns]"
      ]
     },
     "execution_count": 3,
     "metadata": {},
     "output_type": "execute_result"
    }
   ],
   "source": [
    "df = df[0]\n",
    "df"
   ]
  },
  {
   "cell_type": "code",
   "execution_count": 4,
   "id": "8ca29e66-4153-4dd6-af99-9dcc0ec87646",
   "metadata": {},
   "outputs": [
    {
     "data": {
      "text/plain": [
       "<matplotlib.legend.Legend at 0x7f5ffb79f160>"
      ]
     },
     "execution_count": 4,
     "metadata": {},
     "output_type": "execute_result"
    },
    {
     "data": {
      "image/png": "[encoded data removed]",
      "text/plain": [
       "<Figure size 432x288 with 1 Axes>"
      ]
     },
     "metadata": {
      "needs_background": "light"
     },
     "output_type": "display_data"
    }
   ],
   "source": [
    "from matplotlib import pyplot as plt\n",
    "import numpy as np\n",
    "\n",
    "fig,ax=plt.subplots()\n",
    "\n",
    "#adding axis lables:\n",
    "ax.set_ylabel('HDI - menneskelig utvikling')\n",
    "ax.set_xlabel('Befolkning i 2022 (log)')\n",
    "\n",
    "#plotting the function:\n",
    "ax.scatter(np.log(df['2022 Population']),df['Human Development Index'],  label='Land')\n",
    "ax.legend(loc='lower left',frameon=True)"
   ]
  },
  {
   "cell_type": "code",
   "execution_count": 5,
   "id": "a1781242-2782-4e3a-8f4f-dc0aada41b43",
   "metadata": {},
   "outputs": [
    {
     "data": {
      "text/html": [
       "<div>\n",
       "<style scoped>\n",
       "    .dataframe tbody tr th:only-of-type {\n",
       "        vertical-align: middle;\n",
       "    }\n",
       "\n",
       "    .dataframe tbody tr th {\n",
       "        vertical-align: top;\n",
       "    }\n",
       "\n",
       "    .dataframe thead th {\n",
       "        text-align: right;\n",
       "    }\n",
       "</style>\n",
       "<table border=\"1\" class=\"dataframe\">\n",
       "  <thead>\n",
       "    <tr style=\"text-align: right;\">\n",
       "      <th></th>\n",
       "      <th>Human Development Index</th>\n",
       "    </tr>\n",
       "  </thead>\n",
       "  <tbody>\n",
       "    <tr>\n",
       "      <th>0</th>\n",
       "      <td>0.954</td>\n",
       "    </tr>\n",
       "    <tr>\n",
       "      <th>1</th>\n",
       "      <td>0.946</td>\n",
       "    </tr>\n",
       "    <tr>\n",
       "      <th>2</th>\n",
       "      <td>0.942</td>\n",
       "    </tr>\n",
       "    <tr>\n",
       "      <th>3</th>\n",
       "      <td>0.939</td>\n",
       "    </tr>\n",
       "    <tr>\n",
       "      <th>4</th>\n",
       "      <td>0.939</td>\n",
       "    </tr>\n",
       "    <tr>\n",
       "      <th>...</th>\n",
       "      <td>...</td>\n",
       "    </tr>\n",
       "    <tr>\n",
       "      <th>181</th>\n",
       "      <td>0.423</td>\n",
       "    </tr>\n",
       "    <tr>\n",
       "      <th>182</th>\n",
       "      <td>0.413</td>\n",
       "    </tr>\n",
       "    <tr>\n",
       "      <th>183</th>\n",
       "      <td>0.401</td>\n",
       "    </tr>\n",
       "    <tr>\n",
       "      <th>184</th>\n",
       "      <td>0.381</td>\n",
       "    </tr>\n",
       "    <tr>\n",
       "      <th>185</th>\n",
       "      <td>0.377</td>\n",
       "    </tr>\n",
       "  </tbody>\n",
       "</table>\n",
       "<p>186 rows × 1 columns</p>\n",
       "</div>"
      ],
      "text/plain": [
       "     Human Development Index\n",
       "0                      0.954\n",
       "1                      0.946\n",
       "2                      0.942\n",
       "3                      0.939\n",
       "4                      0.939\n",
       "..                       ...\n",
       "181                    0.423\n",
       "182                    0.413\n",
       "183                    0.401\n",
       "184                    0.381\n",
       "185                    0.377\n",
       "\n",
       "[186 rows x 1 columns]"
      ]
     },
     "execution_count": 5,
     "metadata": {},
     "output_type": "execute_result"
    }
   ],
   "source": [
    "y=df['Human Development Index']\n",
    "pd.DataFrame(y)"
   ]
  },
  {
   "cell_type": "code",
   "execution_count": 6,
   "id": "18136960-34e2-4914-8d99-9ed63f4286f4",
   "metadata": {},
   "outputs": [
    {
     "data": {
      "text/html": [
       "<div>\n",
       "<style scoped>\n",
       "    .dataframe tbody tr th:only-of-type {\n",
       "        vertical-align: middle;\n",
       "    }\n",
       "\n",
       "    .dataframe tbody tr th {\n",
       "        vertical-align: top;\n",
       "    }\n",
       "\n",
       "    .dataframe thead th {\n",
       "        text-align: right;\n",
       "    }\n",
       "</style>\n",
       "<table border=\"1\" class=\"dataframe\">\n",
       "  <thead>\n",
       "    <tr style=\"text-align: right;\">\n",
       "      <th></th>\n",
       "      <th>2022 Population</th>\n",
       "      <th>intercept</th>\n",
       "    </tr>\n",
       "  </thead>\n",
       "  <tbody>\n",
       "    <tr>\n",
       "      <th>0</th>\n",
       "      <td>15.522324</td>\n",
       "      <td>1</td>\n",
       "    </tr>\n",
       "    <tr>\n",
       "      <th>1</th>\n",
       "      <td>15.987262</td>\n",
       "      <td>1</td>\n",
       "    </tr>\n",
       "    <tr>\n",
       "      <th>2</th>\n",
       "      <td>15.428980</td>\n",
       "      <td>1</td>\n",
       "    </tr>\n",
       "    <tr>\n",
       "      <th>3</th>\n",
       "      <td>15.844224</td>\n",
       "      <td>1</td>\n",
       "    </tr>\n",
       "    <tr>\n",
       "      <th>4</th>\n",
       "      <td>18.244941</td>\n",
       "      <td>1</td>\n",
       "    </tr>\n",
       "    <tr>\n",
       "      <th>...</th>\n",
       "      <td>...</td>\n",
       "      <td>...</td>\n",
       "    </tr>\n",
       "    <tr>\n",
       "      <th>181</th>\n",
       "      <td>16.351177</td>\n",
       "      <td>1</td>\n",
       "    </tr>\n",
       "    <tr>\n",
       "      <th>182</th>\n",
       "      <td>16.268110</td>\n",
       "      <td>1</td>\n",
       "    </tr>\n",
       "    <tr>\n",
       "      <th>183</th>\n",
       "      <td>16.672761</td>\n",
       "      <td>1</td>\n",
       "    </tr>\n",
       "    <tr>\n",
       "      <th>184</th>\n",
       "      <td>15.428279</td>\n",
       "      <td>1</td>\n",
       "    </tr>\n",
       "    <tr>\n",
       "      <th>185</th>\n",
       "      <td>17.076820</td>\n",
       "      <td>1</td>\n",
       "    </tr>\n",
       "  </tbody>\n",
       "</table>\n",
       "<p>186 rows × 2 columns</p>\n",
       "</div>"
      ],
      "text/plain": [
       "     2022 Population  intercept\n",
       "0          15.522324          1\n",
       "1          15.987262          1\n",
       "2          15.428980          1\n",
       "3          15.844224          1\n",
       "4          18.244941          1\n",
       "..               ...        ...\n",
       "181        16.351177          1\n",
       "182        16.268110          1\n",
       "183        16.672761          1\n",
       "184        15.428279          1\n",
       "185        17.076820          1\n",
       "\n",
       "[186 rows x 2 columns]"
      ]
     },
     "execution_count": 6,
     "metadata": {},
     "output_type": "execute_result"
    }
   ],
   "source": [
    "x=pd.DataFrame(np.log(df['2022 Population']))\n",
    "x['intercept']=1\n",
    "x"
   ]
  },
  {
   "cell_type": "code",
   "execution_count": 7,
   "id": "f97e0416-5116-410a-9a3a-2407faa57652",
   "metadata": {},
   "outputs": [
    {
     "name": "stderr",
     "output_type": "stream",
     "text": [
      "/usr/local/Miniconda3-py39_4.10.3-Linux-x86_64/lib/python3.9/site-packages/statsmodels/compat/pandas.py:65: FutureWarning: pandas.Int64Index is deprecated and will be removed from pandas in a future version. Use pandas.Index with the appropriate dtype instead.\n",
      "  from pandas import Int64Index as NumericIndex\n"
     ]
    },
    {
     "name": "stdout",
     "output_type": "stream",
     "text": [
      "                               OLS Regression Results                              \n",
      "===================================================================================\n",
      "Dep. Variable:     Human Development Index   R-squared:                       0.014\n",
      "Model:                                 OLS   Adj. R-squared:                  0.008\n",
      "Method:                      Least Squares   F-statistic:                     2.571\n",
      "Date:                     Fri, 01 Apr 2022   Prob (F-statistic):              0.111\n",
      "Time:                             12:07:54   Log-Likelihood:                 88.343\n",
      "No. Observations:                      186   AIC:                            -172.7\n",
      "Df Residuals:                          184   BIC:                            -166.2\n",
      "Df Model:                                1                                         \n",
      "Covariance Type:                 nonrobust                                         \n",
      "===================================================================================\n",
      "                      coef    std err          t      P>|t|      [0.025      0.975]\n",
      "-----------------------------------------------------------------------------------\n",
      "2022 Population    -0.0087      0.005     -1.603      0.111      -0.019       0.002\n",
      "intercept           0.8515      0.087      9.828      0.000       0.681       1.022\n",
      "==============================================================================\n",
      "Omnibus:                       22.721   Durbin-Watson:                   0.031\n",
      "Prob(Omnibus):                  0.000   Jarque-Bera (JB):                9.061\n",
      "Skew:                          -0.299   Prob(JB):                       0.0108\n",
      "Kurtosis:                       2.100   Cond. No.                         125.\n",
      "==============================================================================\n",
      "\n",
      "Notes:\n",
      "[1] Standard Errors assume that the covariance matrix of the errors is correctly specified.\n"
     ]
    }
   ],
   "source": [
    "from statsmodels.regression.linear_model import OLS\n",
    "\n",
    "res=OLS(y,x).fit()\n",
    "\n",
    "print(res.summary())"
   ]
  },
  {
   "cell_type": "code",
   "execution_count": 8,
   "id": "d245d442-e96f-447d-af25-f78c15736c55",
   "metadata": {},
   "outputs": [
    {
     "data": {
      "text/plain": [
       "2022 Population   -0.008707\n",
       "intercept          0.851538\n",
       "dtype: float64"
      ]
     },
     "execution_count": 8,
     "metadata": {},
     "output_type": "execute_result"
    }
   ],
   "source": [
    "res.params"
   ]
  },
  {
   "cell_type": "code",
   "execution_count": 9,
   "id": "05d4efaa-1b47-427d-97b8-47562835c286",
   "metadata": {},
   "outputs": [
    {
     "data": {
      "image/png": "[encoded data removed]",
      "text/plain": [
       "<Figure size 432x288 with 1 Axes>"
      ]
     },
     "execution_count": 9,
     "metadata": {},
     "output_type": "execute_result"
    }
   ],
   "source": [
    "x=np.linspace(min(np.log(df['2022 Population'])), max(np.log(df['2022 Population'])), 100)\n",
    "\n",
    "regression_line=res.params['intercept']+res.params['2022 Population']*x\n",
    "\n",
    "ax.plot(x, regression_line,color='red')\n",
    "fig"
   ]
  },
  {
   "cell_type": "markdown",
   "id": "3b661676-c38f-4c17-9223-abe27cd1eb88",
   "metadata": {},
   "source": [
    "Lagde en regresjon mellom HDI, et mål på menneskelig utvikling, og befolkning. Regresjonen viser en svak negativ sammenheng mellom HDI og befolkning."
   ]
  },
  {
   "cell_type": "markdown",
   "id": "4375f7bc-29cb-4f77-9da4-4bf2e5396070",
   "metadata": {},
   "source": [
    "Brukte kode fra github repositorie for å skrape data: https://github.com/dataprofessor/code/blob/master/python/pandas_read_html_for_webscraping.ipynb "
   ]
  }
 ],
 "metadata": {
  "kernelspec": {
   "display_name": "Python 3 (ipykernel)",
   "language": "python",
   "name": "python3"
  },
  "language_info": {
   "codemirror_mode": {
    "name": "ipython",
    "version": 3
   },
   "file_extension": ".py",
   "mimetype": "text/x-python",
   "name": "python",
   "nbconvert_exporter": "python",
   "pygments_lexer": "ipython3",
   "version": "3.9.9"
  }
 },
 "nbformat": 4,
 "nbformat_minor": 5
}
